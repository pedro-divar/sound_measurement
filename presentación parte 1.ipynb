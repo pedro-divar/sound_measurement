{
 "cells": [
  {
   "cell_type": "markdown",
   "metadata": {},
   "source": [
    "<img src=\"imagenes/untref.png\"/>"
   ]
  },
  {
   "cell_type": "markdown",
   "metadata": {},
   "source": [
    "# Medición in-situ\n",
    "\n",
    "Se planeo obtener una descripción acústica de un aula de clases de la Universidad de Tres de febrero. Para ello se realizó una medición in-situ de la respuesta al impulso de dicho recinto, utilizando el método normado de barrido frecuencial.\n",
    "Para llevar a cabo esta medicón se utilizó la norma $ISO$ $3382-2$ y se obtuvo la respuesta al impulso utilizando como referencia el siguiente esquema.\n"
   ]
  },
  {
   "cell_type": "markdown",
   "metadata": {},
   "source": [
    "<img src=\"imagenes/diagrama1.png\"/>"
   ]
  },
  {
   "cell_type": "markdown",
   "metadata": {},
   "source": [
    "Las mediciones fueron echas en el aula 301 de la sede Caseros 2 de la Universidad de Tres de Febrero en el siguiente esquema se puede observar la disposición de los micrófonos, la fuente y los sonómetros. Tambien se observan las medidas del recinto y la posición del equipamiento."
   ]
  },
  {
   "cell_type": "markdown",
   "metadata": {},
   "source": [
    "<img src=\"imagenes/aula.png\"/>"
   ]
  },
  {
   "cell_type": "markdown",
   "metadata": {},
   "source": [
    "El equipamiento utilizado fué:\n",
    "    \n",
    "    -Parlante potenciado JBL EON 515XT\n",
    "    \n",
    "    -Sonómetros Svantek SVAN 959 con calibrador (2 unidades)\n",
    "    \n",
    "    -Micrófono de Medición Earthworks M50 (2 unidadaes)"
   ]
  },
  {
   "cell_type": "markdown",
   "metadata": {},
   "source": [
    "Se hicieron mediciones de ruido de fondo, ruido rosa y sinesweeps con el objetivo de encontrar la respuesta al impulso del recinto siguiendo las normativas. Las posiciones de las fuentes y los micrófonos se corresponden al método de ingeniería que describe la norma. Un total de 6 combinaciones de fuente-mic. Con 3 posiciones de mic distintas. Las distancias a la pared debía ser mínimamente 1m y la distancia entre los micrófonos 2m. Se decidió usar una disposición asimétrica para intentar prevenir la influencia de modos, ya que el recinto tiene todas superficies paralelas.\n",
    "La distancia mínima se calculó haciendo un estimado del alpha del recinto sabiendo que los materiales son hormigón, durlok y cerámico.\n",
    "\n",
    "Además de los ruidos y sweeps, se hizo una toma de la salida del calibrador para tener una referencia de nivel de presión sonora."
   ]
  }
 ],
 "metadata": {
  "kernelspec": {
   "display_name": "Python 3 (ipykernel)",
   "language": "python",
   "name": "python3"
  },
  "language_info": {
   "codemirror_mode": {
    "name": "ipython",
    "version": 3
   },
   "file_extension": ".py",
   "mimetype": "text/x-python",
   "name": "python",
   "nbconvert_exporter": "python",
   "pygments_lexer": "ipython3",
   "version": "3.9.16"
  }
 },
 "nbformat": 4,
 "nbformat_minor": 2
}
