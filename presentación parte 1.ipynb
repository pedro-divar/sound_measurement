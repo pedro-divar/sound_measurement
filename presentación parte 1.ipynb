{
 "cells": [
  {
   "cell_type": "markdown",
   "metadata": {},
   "source": [
    "<img src=\"imagenes/untref.png\"/>"
   ]
  },
  {
   "cell_type": "markdown",
   "metadata": {},
   "source": [
    "# Medición in-situ\n",
    "\n",
    "Se planeo obtener una descripción acústica de un aula de clases de la Universidad de Tres de febrero. Para ello se realizó una medición in-situ de la respuesta al impulso de dicho recinto, utilizando el método normado de barrido frecuencial.\n",
    "Para llevar a cabo esta medicón se utilizó la norma $ISO$ $3382-2$ y se obtuvo la respuesta al impulso utilizando como referencia el siguiente esquema.\n"
   ]
  },
  {
   "cell_type": "markdown",
   "metadata": {},
   "source": [
    "<img src=\"imagenes/diagrama1.png\"/>"
   ]
  },
  {
   "cell_type": "markdown",
   "metadata": {},
   "source": [
    "Las mediciones fueron echas en el aula 301(?) de la sede Caseros 2 de la Universidad de Tres de Febrero en el siguiente esquema se puede observar la disposición de los micrófonos, la fuente y los sonómetros. Tambien se observan las medidas del recinto y la posición del equipamiento."
   ]
  },
  {
   "cell_type": "markdown",
   "metadata": {},
   "source": [
    "DIBUJO DE EL AULA CON LA FUENTE MIC Y SONOMETRO"
   ]
  },
  {
   "cell_type": "markdown",
   "metadata": {},
   "source": [
    "El equipamiento utilizado fué:\n",
    "    \n",
    "    -Parlante potenciado JBL EON 515XT\n",
    "    \n",
    "    -Sonómetros Svantek SVAN 959 con calibrador (2 unidades)\n",
    "    \n",
    "    -Micrófono de Medición Earthworks M50 (2 unidadaes)"
   ]
  }
 ],
 "metadata": {
  "kernelspec": {
   "display_name": "Python 3",
   "language": "python",
   "name": "python3"
  },
  "language_info": {
   "codemirror_mode": {
    "name": "ipython",
    "version": 3
   },
   "file_extension": ".py",
   "mimetype": "text/x-python",
   "name": "python",
   "nbconvert_exporter": "python",
   "pygments_lexer": "ipython3",
   "version": "3.7.3"
  }
 },
 "nbformat": 4,
 "nbformat_minor": 2
}
