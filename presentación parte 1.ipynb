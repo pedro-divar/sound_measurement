{
 "cells": [
  {
   "cell_type": "markdown",
   "metadata": {},
   "source": [
    "<img src=\"imagenes/untref.png\"/>"
   ]
  },
  {
   "cell_type": "markdown",
   "metadata": {},
   "source": [
    "# Medición in-situ\n",
    "\n",
    "Se planeo obtener una descripción acústica de un aula de clases de la Universidad de Tres de febrero. Para ello se realizó una medición in-situ de la respuesta al impulso de dicho recinto, utilizando el método normado de barrido frecuencial.\n",
    "Para llevar a cabo esta medicón se utilizó la norma $ISO$ $3382-2$ y se obtuvo la respuesta al impulso utilizando como referencia el siguiente esquema.\n"
   ]
  },
  {
   "cell_type": "markdown",
   "metadata": {},
   "source": [
    "<img src=\"imagenes/diagrama1.png\"/>"
   ]
  },
  {
   "cell_type": "markdown",
   "metadata": {},
   "source": [
    "Las mediciones fueron echas en el aula 301 de la sede Caseros 2 de la Universidad de Tres de Febrero en el siguiente esquema se puede observar la disposición de los micrófonos, la fuente y los sonómetros. Tambien se observan las medidas del recinto y la posición del equipamiento."
   ]
  },
  {
   "cell_type": "markdown",
   "metadata": {},
   "source": [
    "<img src=\"imagenes/aula.png\"/>"
   ]
  },
  {
   "cell_type": "markdown",
   "metadata": {},
   "source": [
    "##  Selección de método de medición según la norma ISO 3382\n",
    "\n",
    "### Ingeniería:\n",
    "\n",
    "Elegimos el método de ingeniería debido a que contábamos con los recursos necesarios para esta medición, es decir, tiempo y equipamiento, siendo que para el método de precisión se necesita cumplir con los requisitos de directividad que especifica la normativa ISO 3382-1 apartado A.3.1.\n",
    "\n",
    "### Número de mediciones mínimas:\n",
    "\n",
    "La normativa define un número mínimo de mediciones para cumplir con el método. Establece que, el número mínimo de posiciones de la fuente debe ser mayor o igual a 2, al igual que las posiciones de micrófono, y especifica que las combinaciones fuente-micrófono deben ser 6."
   ]
  },
  {
   "cell_type": "markdown",
   "metadata": {},
   "source": [
    "# Equipamiento utilizado:\n",
    "\n",
    "## - Parlante potenciado JBL EON 515XT\n",
    "**Especificaciones:**\n",
    "\n",
    "+ Parlante de 2 vías 15\" y 1\" \n",
    "+ Rango de frecuencias: 39 Hz - 20 kHz \n",
    "+ Máximo SPL: 132 dB \n",
    "\n",
    "\n",
    "## - Sonómetros Svantek SVAN 959 con calibrador (2 unidades)\n",
    "**Especificaciones:**\n",
    "\n",
    "+ Tipo: Clase 1 \n",
    "+ Rango de medición: 27 dBSPL - 140 dBSPL \n",
    "+ Resolución: 0.1 dB \n",
    "+ Rango de frecuencias: 10 Hz - 20kHz \n",
    "\n",
    "## - Micrófono de Medición Earthworks M50 (2 unidadaes)\n",
    "\n",
    "**Especificaciones:**\n",
    "\n",
    "+ Patrón polar: Omnidireccional \n",
    "+ Respuesta en frecuencia: 3 Hz - 50 kHz \n",
    "+ Sensibilidad: 34 mV/Pa \n",
    "+ Nivel de ruido: 20 dBSPL \n",
    "+ Máximo SPL: 140 dBSPL \n",
    "\n",
    "### - Placa de audio SSL 2\n",
    "\n",
    "### - Medidor de distancia Láser BOSCH DLE 70\n",
    "\n",
    "### - Notebook con software de grabación Ableton\n",
    "\n",
    "### - Pies de micrófono, sonómetro y parlante\n",
    "\n",
    "### - Cables varios\n",
    "\n",
    "### - Cinta métrica\n"
   ]
  },
  {
   "cell_type": "markdown",
   "metadata": {},
   "source": [
    "## Determinación de número de mediciones y posiciones de fuente\n",
    "\n",
    "Se hicieron mediciones de ruido de fondo, ruido rosa y sinesweeps con el objetivo de encontrar la respuesta al impulso del recinto siguiendo las normativas. Las posiciones de las fuentes y los micrófonos se corresponden al método de ingeniería que describe la norma. Un total de 6 combinaciones de fuente-mic. Con 3 posiciones de mic distintas. Las distancias a la pared debía ser mínimamente 1m y la distancia entre los micrófonos 2m. Se decidió usar una disposición asimétrica para intentar prevenir la influencia de modos, ya que el recinto tiene todas superficies paralelas."
   ]
  },
  {
   "cell_type": "markdown",
   "metadata": {},
   "source": [
    "### Dmin: Determinación de la distancia mínima necesaria en la medición entre la fuente y un micrófono:\n",
    "La norma establece la distancia mínima que debe existir entre cualquier posición de la fuente y la de un micrófono. \n",
    "\n",
    "$$Dmin = 2 \\cdot \\sqrt{\\frac{V}{c \\cdot T60}}$$\n",
    "\n",
    "siendo: \\\n",
    "V: Volumen del recinto \\\n",
    "c: Velocidad del sonido en el ambiente \\\n",
    "T60: Tiempo de reverberación estimado \n",
    "\n",
    "Por lo que se necesita una estimación del tiempo de reverberación esperado. Utilizamos la fórmula de Sabine, con la cual se puede obtener el tiempo estimado de reverberación conociendo las características arquitectónicas del recinto y los coeficientes de absorción acústica de los materiales que lo componen. Usamos esta ecuación y no la de Norris-Eyring  debido a que funciona mejor para recintos que tienen una absorción homogénea, son regulares y no absorbentes.\n",
    "\n",
    "Además, para utilizar esta ecuación se necesita la velocidad del sonido, siendo:\n",
    "\n",
    "$$c = 331.4 + 0.6 \\cdot Temperatura + 0.0124 \\cdot Humedad$$\n",
    "\n",
    "Reemplazando con los valores de las condiciones iniciales:\n",
    "\n",
    "$$c = 346.4 m/s$$\n",
    "#### T60 con Sabine: \n",
    "$$ T60 = 0,161 * (V/A) $$\n",
    "siendo $A = Σ (αi * si)$ \\\n",
    "si: los coeficientes de absorción de las superficies.\\\n",
    "αi: las superficies del recinto.\n",
    "\n",
    "Tabla de coeficientes de absorción acústica:\n",
    "\n",
    "Material | Coeficiente de absorción global\n",
    "--- | --- \n",
    "Hormigón | 0.02\n",
    "Placas de yeso + 20 mm de aire | 0.06\n",
    "Cielorraso | 0.49\n",
    "Baldosas cerámicas  | 0.01\n",
    "Puerta | 0.09\n",
    "Vidrio | 0.11\n",
    "Butaca  | 0.15\n",
    "\n",
    "\n",
    "A partir de esto, se calcula el tiempo de reverberación:\n",
    "\n",
    "Pared 1: $$S_1 = 4.93 m \\cdot 2.6 m \\cdot 0.02 = 0.256\\ m^2$$ \\\n",
    "Pared 2: $$S_2 = 8.476 m \\cdot 2.6 m \\cdot 0.02 = 0.44\\ m^2$$ \\\n",
    "Pared 3: $$S_3 = (8.476 m \\cdot 2.6 m - 1.2 m \\cdot 2.055) \\cdot 0.06 = 1.174\\ m^2$$ \\\n",
    "Pared 4: $$S_4 = 4.93 m \\cdot 1.6 m \\cdot 0.02 = 0.157\\ m^2$$ \\\n",
    "Piso: $$ S_5 = 4.93 m \\cdot 8.476 m \\cdot 0.01 = 0.418\\ m^2$$ \\\n",
    "Puerta: $$S_6 = 8.476 m \\cdot 2.6 m \\cdot 0.06 = 0.222\\ m^2$$ \\\n",
    "Ventana: $$S_7 = 4.93 m \\cdot 1.0 m \\cdot 0.11 = 0.102\\ m^2$$ \\\n",
    "Techo: $$S_8 = 4.93 m \\cdot 8.476 m \\cdot 0.49 = 20.48\\ m^2$$ \\\n",
    "Asientos: $$S_9 = 0.6 m \\cdot 0.6 m \\cdot 0.15 \\cdot 35= 1.89\\ m^2$$\n",
    "\n",
    "$$S{tot} = 25.139\\ m^2$$\n",
    "\n",
    "Finalmente: \n",
    "$$T60 = \\frac{0.161 s/m \\cdot 4.93 m \\cdot 2.6 m \\cdot 8.476 m}{25.139 m^2} = 0.696\\ s$$\n",
    "\n",
    "Por último: \n",
    "$$Dmin = 2 \\cdot \\sqrt{\\frac{4.93 m \\cdot 2.6 m \\cdot 8.476 m}{346.4 m/s \\cdot 0.696 s}} = 1.34\\ m $$"
   ]
  },
  {
   "cell_type": "markdown",
   "metadata": {},
   "source": [
    "## Calibración de los sonómetros: \n",
    "\n",
    "Realizamos la calibración de los sonómetros inicio y al final de la medición. Para esto, hicimos uso del calibrador, el cual se coloca en el micrófono del sonómetro, se enciende y luego se accede al menú de calibración. Los factores de calibración fueron: \n",
    "\n",
    "+ Sonómetro 1: 0.4 dB al inicio y 1.2 dB al final de la medición.\n",
    "+ Sonómetro 2: 0.5 dB al inicio y 0.6 dB al final de la medición.\n",
    "\n",
    "La configuración utilizada en el sonómetro fue: \n",
    "- Ponderación de tiempo: Fast. Ya que necesitamos medir las fluctuaciones rápidas de nivel de las señales y con esta configuración se ven reflejadas correctamente las variaciones.\n",
    "- Ponderación de frecuencia: Z. Porque así evitamos perder información de las mediciones. Además, luego nos permite efectuar la ponderación deseada."
   ]
  },
  {
   "cell_type": "markdown",
   "metadata": {},
   "source": [
    "## Calibración del nivel de la fuente: \n",
    "\n",
    "Para la calibración del nivel de la fuente, la norma especifica que el nivel sonoro de la señal a medir tiene que estar 35 dB por encima del nivel de piso de ruido en el recinto, por lo que realizamos una medición del ruido rosa para posteriormente compararlo con una medición de ruido de fondo.\\\n",
    "En primer lugar, colocamos en las posiciones 1 y 2 los micrófonos, y junto a estos los 2 sonómetros ya calibrados, luego procedemos a reproducir la señal de ruido rosa y medir con ambos instrumentos. Posteriormente, llevamos a cabo el mismo procedimiento para medir el ruido de fondo. Luego, ajustamos el nivel de salida de la placa hasta alcanzar dicha diferencia, corroborando que en ninguna etapa de la grabación la señal este sobresaturando.\n",
    "Cabe aclarar que esta calibración la realizamos de manera incorrecta, ya que en la medición del ruido rosa, en el sonómetro, se visualizaban parámetros instantáneos de nivel de presión sonora y no de nivel sonoro continuo equivalente, necesario para dicha comparación. Por lo que, realmente no verificamos en el momento que se cumpla la normativa. Igualmente, en el desarrollo del trabajo llevaremos a cabo el análisis para comprobar si se cumple la diferencia de 35 dB.\n",
    "\n",
    "Para poder analizar el nivel de presión sonora de las grabaciones de ruido rosa y de fondo, es necesario tener una grabación de referencia, debido a que en el dominio digital los valores de amplitud son adimensionales.\n",
    "Por este motivo, también se grabó el tono puro de 1 kHz y 1 Pascal (equivalente a 94 dB SPL) de presión sonora emitido por el calibrador. De esta manera, obtenemos una señal que tendrá una amplitud digital que equivale al valor de presión sonora mencionado. Y gracias a que durante toda la medición los niveles de ganancias de los equipos se mantuvieron iguales, a partir del audio del tono puro grabado y una regla de tres simple, se obtienen los niveles de presión sonora de las grabaciones. \n",
    "Utilizamos un tono puro como referencia debido a que es la señal más estable que se puede obtener conociendo su valor de presión sonora.\n",
    "En la medición, se grabaron dos tonos puros, cada uno correspondiente a cada calibrador, para que, en caso de que haya algún error, utilizar el que genere el nivel de presión sonora más cercano a 94 dBSPL."
   ]
  }
 ],
 "metadata": {
  "kernelspec": {
   "display_name": "Python 3",
   "language": "python",
   "name": "python3"
  },
  "language_info": {
   "codemirror_mode": {
    "name": "ipython",
    "version": 3
   },
   "file_extension": ".py",
   "mimetype": "text/x-python",
   "name": "python",
   "nbconvert_exporter": "python",
   "pygments_lexer": "ipython3",
   "version": "3.7.3"
  }
 },
 "nbformat": 4,
 "nbformat_minor": 2
}
