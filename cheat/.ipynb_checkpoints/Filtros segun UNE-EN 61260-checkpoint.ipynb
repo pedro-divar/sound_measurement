{
 "cells": [
  {
   "cell_type": "code",
   "execution_count": 9,
   "id": "80e810e2",
   "metadata": {},
   "outputs": [],
   "source": [
    "import numpy as np\n",
    "import soundfile as sf\n",
    "import matplotlib.pyplot as plt\n",
    "from IPython.display import Audio\n",
    "from scipy import signal\n",
    "#plt.style.use('../../sys.mplstyle')\n",
    "\n",
    "def plot_filt(mag, freqs, title, ax):\n",
    "    eps = np.finfo(float).eps\n",
    "    mag_db = 20*np.log10(abs(mag)+eps)\n",
    "    ax.semilogx(freqs, mag_db)\n",
    "    ax.set_xlim(2**(-5),2**(5))\n",
    "    xfreqs = [(2**i) for i in range(-5,6)]\n",
    "    ax.set_xticks(xfreqs)\n",
    "    ax.set_xticklabels(['$G^{%i}$'%i for i in range(-5,6)])\n",
    "    ax.set_title(title)\n",
    "    ax.set_xlabel('Frequency [Hz]')\n",
    "    ax.set_ylabel('Amplitude [dB]')\n",
    "    ax.set_ylim(-80,2)"
   ]
  },
  {
   "cell_type": "code",
   "execution_count": 10,
   "id": "363bb210",
   "metadata": {},
   "outputs": [],
   "source": [
    "fs = 44100\n",
    "order = 10\n",
    "fc = 1000\n",
    "fsup = np.power(2.0, 1/2) * fc / (fs / 2)\n",
    "finf = np.power(2.0, -1/2) * fc / (fs / 2)"
   ]
  },
  {
   "cell_type": "code",
   "execution_count": 11,
   "id": "8a5ff800",
   "metadata": {},
   "outputs": [
    {
     "data": {
      "image/png": "[encoded data removed]",
      "text/plain": [
       "<Figure size 432x288 with 1 Axes>"
      ]
     },
     "metadata": {
      "needs_background": "light"
     },
     "output_type": "display_data"
    }
   ],
   "source": [
    "sos = signal.butter(order, [finf, fsup], btype='bandpass', output='sos')\n",
    "w, h = signal.sosfreqz(sos)\n",
    "w_freqz = (w*fs)/(2*np.pi)\n",
    "h_mag = abs(h)\n",
    "fig, ax = plt.subplots(1)\n",
    "plot_filt(h_mag, w_freqz/fc, 'Filtro pasa bajos',ax)\n",
    "ax.grid()"
   ]
  },
  {
   "cell_type": "code",
   "execution_count": 12,
   "id": "41251bf0",
   "metadata": {},
   "outputs": [
    {
     "data": {
      "text/html": [
       "<div>\n",
       "<style scoped>\n",
       "    .dataframe tbody tr th:only-of-type {\n",
       "        vertical-align: middle;\n",
       "    }\n",
       "\n",
       "    .dataframe tbody tr th {\n",
       "        vertical-align: top;\n",
       "    }\n",
       "\n",
       "    .dataframe thead th {\n",
       "        text-align: right;\n",
       "    }\n",
       "</style>\n",
       "<table border=\"1\" class=\"dataframe\">\n",
       "  <thead>\n",
       "    <tr style=\"text-align: right;\">\n",
       "      <th></th>\n",
       "      <th>G_exp</th>\n",
       "      <th>clase_0_inf</th>\n",
       "      <th>clase_0_sup</th>\n",
       "      <th>clase_1_inf</th>\n",
       "      <th>clase_1_sup</th>\n",
       "      <th>clase_2_inf</th>\n",
       "      <th>clase_2_sup</th>\n",
       "    </tr>\n",
       "  </thead>\n",
       "  <tbody>\n",
       "    <tr>\n",
       "      <th>16</th>\n",
       "      <td>-4.0</td>\n",
       "      <td>75.0</td>\n",
       "      <td>100.0</td>\n",
       "      <td>70.0</td>\n",
       "      <td>100.0</td>\n",
       "      <td>60.0</td>\n",
       "      <td>100.0</td>\n",
       "    </tr>\n",
       "  </tbody>\n",
       "</table>\n",
       "</div>"
      ],
      "text/plain": [
       "    G_exp  clase_0_inf  clase_0_sup  clase_1_inf  clase_1_sup  clase_2_inf  \\\n",
       "16   -4.0         75.0        100.0         70.0        100.0         60.0   \n",
       "\n",
       "    clase_2_sup  \n",
       "16        100.0  "
      ]
     },
     "execution_count": 12,
     "metadata": {},
     "output_type": "execute_result"
    }
   ],
   "source": [
    "import pandas as pd\n",
    "curvas = pd.read_csv('curvas.csv')\n",
    "curvas.sort_values(by='G_exp', inplace=True)\n",
    "curvas.head(1)"
   ]
  },
  {
   "cell_type": "code",
   "execution_count": 19,
   "id": "6c5a676e",
   "metadata": {
    "scrolled": true
   },
   "outputs": [
    {
     "data": {
      "text/html": [
       "<div>\n",
       "<style scoped>\n",
       "    .dataframe tbody tr th:only-of-type {\n",
       "        vertical-align: middle;\n",
       "    }\n",
       "\n",
       "    .dataframe tbody tr th {\n",
       "        vertical-align: top;\n",
       "    }\n",
       "\n",
       "    .dataframe thead th {\n",
       "        text-align: right;\n",
       "    }\n",
       "</style>\n",
       "<table border=\"1\" class=\"dataframe\">\n",
       "  <thead>\n",
       "    <tr style=\"text-align: right;\">\n",
       "      <th></th>\n",
       "      <th>G_exp</th>\n",
       "      <th>clase_0_inf</th>\n",
       "      <th>clase_0_sup</th>\n",
       "      <th>clase_1_inf</th>\n",
       "      <th>clase_1_sup</th>\n",
       "      <th>clase_2_inf</th>\n",
       "      <th>clase_2_sup</th>\n",
       "    </tr>\n",
       "  </thead>\n",
       "  <tbody>\n",
       "    <tr>\n",
       "      <th>16</th>\n",
       "      <td>-4.000</td>\n",
       "      <td>75.00</td>\n",
       "      <td>100.00</td>\n",
       "      <td>70.0</td>\n",
       "      <td>100.0</td>\n",
       "      <td>60.0</td>\n",
       "      <td>100.0</td>\n",
       "    </tr>\n",
       "    <tr>\n",
       "      <th>15</th>\n",
       "      <td>-3.000</td>\n",
       "      <td>62.00</td>\n",
       "      <td>100.00</td>\n",
       "      <td>61.0</td>\n",
       "      <td>100.0</td>\n",
       "      <td>55.0</td>\n",
       "      <td>100.0</td>\n",
       "    </tr>\n",
       "    <tr>\n",
       "      <th>14</th>\n",
       "      <td>-2.000</td>\n",
       "      <td>42.50</td>\n",
       "      <td>100.00</td>\n",
       "      <td>42.0</td>\n",
       "      <td>100.0</td>\n",
       "      <td>41.0</td>\n",
       "      <td>100.0</td>\n",
       "    </tr>\n",
       "    <tr>\n",
       "      <th>13</th>\n",
       "      <td>-1.000</td>\n",
       "      <td>18.00</td>\n",
       "      <td>100.00</td>\n",
       "      <td>17.5</td>\n",
       "      <td>100.0</td>\n",
       "      <td>16.5</td>\n",
       "      <td>100.0</td>\n",
       "    </tr>\n",
       "    <tr>\n",
       "      <th>12</th>\n",
       "      <td>-0.500</td>\n",
       "      <td>2.30</td>\n",
       "      <td>4.50</td>\n",
       "      <td>2.0</td>\n",
       "      <td>5.0</td>\n",
       "      <td>1.6</td>\n",
       "      <td>5.5</td>\n",
       "    </tr>\n",
       "    <tr>\n",
       "      <th>11</th>\n",
       "      <td>-0.375</td>\n",
       "      <td>-0.15</td>\n",
       "      <td>1.10</td>\n",
       "      <td>-0.3</td>\n",
       "      <td>1.3</td>\n",
       "      <td>-0.5</td>\n",
       "      <td>1.6</td>\n",
       "    </tr>\n",
       "    <tr>\n",
       "      <th>10</th>\n",
       "      <td>-0.250</td>\n",
       "      <td>-0.15</td>\n",
       "      <td>0.40</td>\n",
       "      <td>-0.3</td>\n",
       "      <td>0.6</td>\n",
       "      <td>-0.5</td>\n",
       "      <td>0.8</td>\n",
       "    </tr>\n",
       "    <tr>\n",
       "      <th>9</th>\n",
       "      <td>-0.125</td>\n",
       "      <td>-0.15</td>\n",
       "      <td>0.20</td>\n",
       "      <td>-0.3</td>\n",
       "      <td>0.4</td>\n",
       "      <td>-0.5</td>\n",
       "      <td>0.6</td>\n",
       "    </tr>\n",
       "    <tr>\n",
       "      <th>0</th>\n",
       "      <td>0.000</td>\n",
       "      <td>-0.15</td>\n",
       "      <td>0.15</td>\n",
       "      <td>-0.3</td>\n",
       "      <td>0.3</td>\n",
       "      <td>-0.5</td>\n",
       "      <td>0.5</td>\n",
       "    </tr>\n",
       "    <tr>\n",
       "      <th>1</th>\n",
       "      <td>0.125</td>\n",
       "      <td>-0.15</td>\n",
       "      <td>0.20</td>\n",
       "      <td>-0.3</td>\n",
       "      <td>0.4</td>\n",
       "      <td>-0.5</td>\n",
       "      <td>0.6</td>\n",
       "    </tr>\n",
       "    <tr>\n",
       "      <th>2</th>\n",
       "      <td>0.250</td>\n",
       "      <td>-0.15</td>\n",
       "      <td>0.40</td>\n",
       "      <td>-0.3</td>\n",
       "      <td>0.6</td>\n",
       "      <td>-0.5</td>\n",
       "      <td>0.8</td>\n",
       "    </tr>\n",
       "    <tr>\n",
       "      <th>3</th>\n",
       "      <td>0.375</td>\n",
       "      <td>-0.15</td>\n",
       "      <td>1.10</td>\n",
       "      <td>-0.3</td>\n",
       "      <td>1.3</td>\n",
       "      <td>-0.5</td>\n",
       "      <td>1.6</td>\n",
       "    </tr>\n",
       "    <tr>\n",
       "      <th>4</th>\n",
       "      <td>0.500</td>\n",
       "      <td>2.30</td>\n",
       "      <td>4.50</td>\n",
       "      <td>2.0</td>\n",
       "      <td>5.0</td>\n",
       "      <td>1.6</td>\n",
       "      <td>5.5</td>\n",
       "    </tr>\n",
       "    <tr>\n",
       "      <th>5</th>\n",
       "      <td>1.000</td>\n",
       "      <td>18.00</td>\n",
       "      <td>100.00</td>\n",
       "      <td>17.5</td>\n",
       "      <td>100.0</td>\n",
       "      <td>16.5</td>\n",
       "      <td>100.0</td>\n",
       "    </tr>\n",
       "    <tr>\n",
       "      <th>6</th>\n",
       "      <td>2.000</td>\n",
       "      <td>42.50</td>\n",
       "      <td>100.00</td>\n",
       "      <td>42.0</td>\n",
       "      <td>100.0</td>\n",
       "      <td>41.0</td>\n",
       "      <td>100.0</td>\n",
       "    </tr>\n",
       "    <tr>\n",
       "      <th>7</th>\n",
       "      <td>3.000</td>\n",
       "      <td>62.00</td>\n",
       "      <td>100.00</td>\n",
       "      <td>61.0</td>\n",
       "      <td>100.0</td>\n",
       "      <td>55.0</td>\n",
       "      <td>100.0</td>\n",
       "    </tr>\n",
       "    <tr>\n",
       "      <th>8</th>\n",
       "      <td>4.000</td>\n",
       "      <td>75.00</td>\n",
       "      <td>100.00</td>\n",
       "      <td>70.0</td>\n",
       "      <td>100.0</td>\n",
       "      <td>60.0</td>\n",
       "      <td>100.0</td>\n",
       "    </tr>\n",
       "  </tbody>\n",
       "</table>\n",
       "</div>"
      ],
      "text/plain": [
       "    G_exp  clase_0_inf  clase_0_sup  clase_1_inf  clase_1_sup  clase_2_inf  \\\n",
       "16 -4.000        75.00       100.00         70.0        100.0         60.0   \n",
       "15 -3.000        62.00       100.00         61.0        100.0         55.0   \n",
       "14 -2.000        42.50       100.00         42.0        100.0         41.0   \n",
       "13 -1.000        18.00       100.00         17.5        100.0         16.5   \n",
       "12 -0.500         2.30         4.50          2.0          5.0          1.6   \n",
       "11 -0.375        -0.15         1.10         -0.3          1.3         -0.5   \n",
       "10 -0.250        -0.15         0.40         -0.3          0.6         -0.5   \n",
       "9  -0.125        -0.15         0.20         -0.3          0.4         -0.5   \n",
       "0   0.000        -0.15         0.15         -0.3          0.3         -0.5   \n",
       "1   0.125        -0.15         0.20         -0.3          0.4         -0.5   \n",
       "2   0.250        -0.15         0.40         -0.3          0.6         -0.5   \n",
       "3   0.375        -0.15         1.10         -0.3          1.3         -0.5   \n",
       "4   0.500         2.30         4.50          2.0          5.0          1.6   \n",
       "5   1.000        18.00       100.00         17.5        100.0         16.5   \n",
       "6   2.000        42.50       100.00         42.0        100.0         41.0   \n",
       "7   3.000        62.00       100.00         61.0        100.0         55.0   \n",
       "8   4.000        75.00       100.00         70.0        100.0         60.0   \n",
       "\n",
       "    clase_2_sup  \n",
       "16        100.0  \n",
       "15        100.0  \n",
       "14        100.0  \n",
       "13        100.0  \n",
       "12          5.5  \n",
       "11          1.6  \n",
       "10          0.8  \n",
       "9           0.6  \n",
       "0           0.5  \n",
       "1           0.6  \n",
       "2           0.8  \n",
       "3           1.6  \n",
       "4           5.5  \n",
       "5         100.0  \n",
       "6         100.0  \n",
       "7         100.0  \n",
       "8         100.0  "
      ]
     },
     "execution_count": 19,
     "metadata": {},
     "output_type": "execute_result"
    }
   ],
   "source": [
    "curvas"
   ]
  },
  {
   "cell_type": "code",
   "execution_count": 13,
   "id": "40901b04",
   "metadata": {},
   "outputs": [
    {
     "data": {
      "text/plain": [
       "[<matplotlib.lines.Line2D at 0x7f4aa2586700>]"
      ]
     },
     "execution_count": 13,
     "metadata": {},
     "output_type": "execute_result"
    },
    {
     "data": {
      "image/png": "[encoded data removed]",
      "text/plain": [
       "<Figure size 432x288 with 1 Axes>"
      ]
     },
     "metadata": {
      "needs_background": "light"
     },
     "output_type": "display_data"
    }
   ],
   "source": [
    "plt.plot(2**curvas.G_exp.values, -curvas.clase_1_inf.values)\n",
    "plt.plot(2**curvas.G_exp.values, -curvas.clase_1_sup.values)\n",
    "\n"
   ]
  },
  {
   "cell_type": "code",
   "execution_count": 20,
   "id": "9fdeffc8",
   "metadata": {},
   "outputs": [
    {
     "data": {
      "text/plain": [
       "<matplotlib.legend.Legend at 0x7f4aa2174070>"
      ]
     },
     "execution_count": 20,
     "metadata": {},
     "output_type": "execute_result"
    },
    {
     "data": {
      "image/png": "[encoded data removed]",
      "text/plain": [
       "<Figure size 432x288 with 1 Axes>"
      ]
     },
     "metadata": {
      "needs_background": "light"
     },
     "output_type": "display_data"
    }
   ],
   "source": [
    "fig, ax = plt.subplots(1)\n",
    "eps = np.finfo(float).eps\n",
    "mag_db = 20*np.log10(abs(h_mag)+eps)\n",
    "ax.semilogx(w_freqz/fc, mag_db)\n",
    "ax.semilogx(2**curvas.G_exp.values, -curvas.clase_1_inf.values,'r--', label='Limite superior')\n",
    "ax.semilogx(2**curvas.G_exp.values, -curvas.clase_1_sup.values, 'b--', label='Limite inferior')\n",
    "ax.set_xlim(2**(-5),2**(5))\n",
    "xfreqs = [(2**i) for i in range(-5,6)]\n",
    "ax.set_xticks(xfreqs)\n",
    "ax.set_xticklabels(['$G^{%i}$'%i for i in range(-5,6)])\n",
    "ax.set_xlabel('Frequency [Hz]')\n",
    "ax.set_ylabel('Amplitude [dB]')\n",
    "ax.set_ylim(-20,2)\n",
    "ax.legend()"
   ]
  },
  {
   "cell_type": "code",
   "execution_count": 21,
   "id": "3d906244",
   "metadata": {},
   "outputs": [
    {
     "data": {
      "text/html": [
       "<div>\n",
       "<style scoped>\n",
       "    .dataframe tbody tr th:only-of-type {\n",
       "        vertical-align: middle;\n",
       "    }\n",
       "\n",
       "    .dataframe tbody tr th {\n",
       "        vertical-align: top;\n",
       "    }\n",
       "\n",
       "    .dataframe thead th {\n",
       "        text-align: right;\n",
       "    }\n",
       "</style>\n",
       "<table border=\"1\" class=\"dataframe\">\n",
       "  <thead>\n",
       "    <tr style=\"text-align: right;\">\n",
       "      <th></th>\n",
       "      <th>f_norm</th>\n",
       "      <th>clase_0_inf</th>\n",
       "      <th>clase_0_sup</th>\n",
       "      <th>clase_1_inf</th>\n",
       "      <th>clase_1_sup</th>\n",
       "      <th>clase_2_inf</th>\n",
       "      <th>clase_2_sup</th>\n",
       "    </tr>\n",
       "  </thead>\n",
       "  <tbody>\n",
       "    <tr>\n",
       "      <th>12</th>\n",
       "      <td>0.32578</td>\n",
       "      <td>62.0</td>\n",
       "      <td>100.0</td>\n",
       "      <td>61.0</td>\n",
       "      <td>100.0</td>\n",
       "      <td>55.0</td>\n",
       "      <td>100.0</td>\n",
       "    </tr>\n",
       "  </tbody>\n",
       "</table>\n",
       "</div>"
      ],
      "text/plain": [
       "     f_norm  clase_0_inf  clase_0_sup  clase_1_inf  clase_1_sup  clase_2_inf  \\\n",
       "12  0.32578         62.0        100.0         61.0        100.0         55.0   \n",
       "\n",
       "    clase_2_sup  \n",
       "12        100.0  "
      ]
     },
     "execution_count": 21,
     "metadata": {},
     "output_type": "execute_result"
    }
   ],
   "source": [
    "# para tercios \n",
    "tercios = pd.read_csv('tercios.csv')\n",
    "tercios.sort_values(by='f_norm', inplace=True)\n",
    "tercios.head(1)\n"
   ]
  },
  {
   "cell_type": "code",
   "execution_count": 22,
   "id": "2d4b3b5a",
   "metadata": {},
   "outputs": [],
   "source": [
    "fs = 44100\n",
    "order = 4\n",
    "fc = 125\n",
    "fsup = np.power(10**(3/10), 1/6) * fc / (fs / 2)\n",
    "finf = np.power(10**(3/10), -1/6) * fc / (fs / 2)"
   ]
  },
  {
   "cell_type": "code",
   "execution_count": 23,
   "id": "55c8c0c2",
   "metadata": {},
   "outputs": [
    {
     "data": {
      "image/png": "[encoded data removed]",
      "text/plain": [
       "<Figure size 432x288 with 1 Axes>"
      ]
     },
     "metadata": {
      "needs_background": "light"
     },
     "output_type": "display_data"
    }
   ],
   "source": [
    "sos = signal.butter(order, [finf, fsup], btype='bandpass', output='sos')\n",
    "w, h = signal.sosfreqz(sos, 10000)\n",
    "w_freqz = (w*fs)/(2*np.pi)\n",
    "h_mag = abs(h)\n",
    "fig, ax = plt.subplots(1)\n",
    "plot_filt(h_mag, w_freqz/fc, 'Filtro pasa bajos',ax)\n",
    "ax.grid()"
   ]
  },
  {
   "cell_type": "code",
   "execution_count": 24,
   "id": "4bf7271f",
   "metadata": {},
   "outputs": [
    {
     "data": {
      "text/plain": [
       "<matplotlib.legend.Legend at 0x7f4aa237c5b0>"
      ]
     },
     "execution_count": 24,
     "metadata": {},
     "output_type": "execute_result"
    },
    {
     "data": {
      "image/png": "[encoded data removed]",
      "text/plain": [
       "<Figure size 432x288 with 1 Axes>"
      ]
     },
     "metadata": {
      "needs_background": "light"
     },
     "output_type": "display_data"
    }
   ],
   "source": [
    "fig, ax = plt.subplots(1)\n",
    "eps = np.finfo(float).eps\n",
    "mag_db = 20*np.log10(abs(h_mag)+eps)\n",
    "ax.semilogx(w_freqz/fc, mag_db)\n",
    "ax.semilogx(tercios.f_norm.values, -tercios.clase_1_inf.values,'r--', label='Limite superior')\n",
    "ax.semilogx(tercios.f_norm.values, -tercios.clase_1_sup.values, 'b--', label='Limite inferior')\n",
    "ax.set_xlim(2**(-2),2**(2))\n",
    "xfreqs = [(2**i) for i in range(-2,3)]\n",
    "ax.set_xticks(xfreqs)\n",
    "ax.set_xticklabels(['$G^{%i}$'%i for i in range(-2,3)])\n",
    "ax.set_xlabel('Frequency [Hz]')\n",
    "ax.set_ylabel('Amplitude [dB]')\n",
    "ax.set_ylim(-80,2)\n",
    "ax.legend()"
   ]
  },
  {
   "cell_type": "code",
   "execution_count": null,
   "id": "d30f0c89",
   "metadata": {},
   "outputs": [],
   "source": []
  },
  {
   "cell_type": "code",
   "execution_count": null,
   "id": "314b7147",
   "metadata": {},
   "outputs": [],
   "source": []
  },
  {
   "cell_type": "code",
   "execution_count": null,
   "id": "93b3872f",
   "metadata": {},
   "outputs": [],
   "source": []
  }
 ],
 "metadata": {
  "kernelspec": {
   "display_name": "Python 3 (ipykernel)",
   "language": "python",
   "name": "python3"
  },
  "language_info": {
   "codemirror_mode": {
    "name": "ipython",
    "version": 3
   },
   "file_extension": ".py",
   "mimetype": "text/x-python",
   "name": "python",
   "nbconvert_exporter": "python",
   "pygments_lexer": "ipython3",
   "version": "3.9.16"
  }
 },
 "nbformat": 4,
 "nbformat_minor": 5
}
