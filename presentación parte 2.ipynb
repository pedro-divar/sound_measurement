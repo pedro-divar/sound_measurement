{
 "cells": [
  {
   "cell_type": "markdown",
   "metadata": {},
   "source": [
    "# Análisis espectral\n",
    "\n",
    "chamuyooo blah blah blah python generacion de señales balha lbafadskfahsdf"
   ]
  },
  {
   "cell_type": "markdown",
   "metadata": {},
   "source": [
    "Partiendo de las tres señales de audio grabadas, se determinó una manera de obtener curvas de nivel\n",
    "de presión sonora en función del tiempo utilizando el lenguaje de programación python, tanto para el ruido de fondo como para el ruido\n",
    "rosa."
   ]
  },
  {
   "cell_type": "code",
   "execution_count": null,
   "metadata": {},
   "outputs": [],
   "source": []
  },
  {
   "cell_type": "markdown",
   "metadata": {},
   "source": [
    "Se diseño un banco de filtros de octava y un banco de filtros de tercio de octava según la\n",
    "norma $ISO$ $61260$ utilizando el lenguaje python guardado en el módulo $filters.py$."
   ]
  },
  {
   "cell_type": "code",
   "execution_count": 1,
   "metadata": {},
   "outputs": [
    {
     "ename": "SyntaxError",
     "evalue": "invalid syntax (<ipython-input-1-d3b463776af3>, line 1)",
     "output_type": "error",
     "traceback": [
      "\u001b[1;36m  File \u001b[1;32m\"<ipython-input-1-d3b463776af3>\"\u001b[1;36m, line \u001b[1;32m1\u001b[0m\n\u001b[1;33m    Motrar filtros graficar algunos\u001b[0m\n\u001b[1;37m                 ^\u001b[0m\n\u001b[1;31mSyntaxError\u001b[0m\u001b[1;31m:\u001b[0m invalid syntax\n"
     ]
    }
   ],
   "source": [
    "Motrar filtros graficar algunos"
   ]
  },
  {
   "cell_type": "markdown",
   "metadata": {},
   "source": [
    "Se filtran las señales de ruido rosa y de ruido de fondo utilizando los bancos de filtros ante-\n",
    "riormente creados. Luego se obtienen los niveles equivalentes por banda. Finalmente, se confecciona gráficos de barras en donde se comparan los niveles equivalentes por bandas para las dos señales (un gráfico para divisiones de octava, y otro para divisiones de tercio\n",
    "de octava)."
   ]
  },
  {
   "cell_type": "code",
   "execution_count": null,
   "metadata": {},
   "outputs": [],
   "source": []
  },
  {
   "cell_type": "markdown",
   "metadata": {},
   "source": [
    "En las siguientes imagenes se ven los resultados obtenidos con el sonómetro"
   ]
  },
  {
   "cell_type": "markdown",
   "metadata": {},
   "source": [
    "IMAGENES DEL SONOMETRO"
   ]
  },
  {
   "cell_type": "markdown",
   "metadata": {},
   "source": [
    "comparacion blah blah chamuyoo guitarraa solo de chamuyooo"
   ]
  },
  {
   "cell_type": "markdown",
   "metadata": {},
   "source": [
    "conclusionesss mas chamuyooo chat gpt etc"
   ]
  }
 ],
 "metadata": {
  "kernelspec": {
   "display_name": "Python 3",
   "language": "python",
   "name": "python3"
  },
  "language_info": {
   "codemirror_mode": {
    "name": "ipython",
    "version": 3
   },
   "file_extension": ".py",
   "mimetype": "text/x-python",
   "name": "python",
   "nbconvert_exporter": "python",
   "pygments_lexer": "ipython3",
   "version": "3.7.3"
  }
 },
 "nbformat": 4,
 "nbformat_minor": 2
}
