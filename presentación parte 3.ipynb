{
 "cells": [
  {
   "cell_type": "markdown",
   "metadata": {},
   "source": [
    "# Obtención de respuesta al impulso\n",
    "\n",
    "El método estándar para obtener respuestas al impulso(RI) de recintos es el de la deconvolución de un barrido frecuencial (sine-sweep), para realizar esta obtención de la RI se utiliza el lenguaje python y se crea un módulo llamado $generate\\_signals.py$ para obtener esta respuesta. A continuación se explica cómo se obtiene esta RI:\n",
    "\n",
    "\n",
    "Suponiendo que un recinto es excitado por una señal $x(t)$ que corresponde a un sinesweep.\n",
    "La RI puede ser obtenida si realizamos la deconvolución de la señal de salida.\n",
    "\n",
    "$y(t) = x(t) * h(t)$\n",
    "\n",
    "donde $y(t)$ es la señal adquirida y $h(t)$ es la respuesta al impulso del recinto. A partir de la propiedad de   convolución de la Transformada de Fourier:\n",
    "\n",
    "$x(t) ∗ h(t) = X(jω)H(jω)$\n",
    "\n",
    "Y(jω)/X(jω) = H(jω) (mejorar)\n",
    "\n",
    "F^(−1)[H(jω)] = h(t)\n",
    "\n",
    "La ecuación 3 es válida si X(jω) es distinta de cero dentro del rango de frecuencia de in-\n",
    "terés. Si x(t) tiene un espectro conocido X(jω) se calcula una sola vez y se aplica a todas las\n",
    "\n",
    "mediciones. Si buscamos otra expresión para la ecuación 3 vemos que\n",
    "\n",
    "Y(jω)X(jω)−1 = H(jω)\n",
    "\n",
    "X(jω)\n",
    "−1 ∈ C ⇒ X(jω)\n",
    "−1 = (e\n",
    "iθ(jω)\n",
    ")\n",
    "−1 = X(jω)\n",
    "\n",
    "Y(jω)X(jω) = H(jω)\n",
    "\n",
    "y(t) ∗ x(−t) = h(t)"
   ]
  }
 ],
 "metadata": {
  "kernelspec": {
   "display_name": "Python 3",
   "language": "python",
   "name": "python3"
  },
  "language_info": {
   "codemirror_mode": {
    "name": "ipython",
    "version": 3
   },
   "file_extension": ".py",
   "mimetype": "text/x-python",
   "name": "python",
   "nbconvert_exporter": "python",
   "pygments_lexer": "ipython3",
   "version": "3.7.3"
  }
 },
 "nbformat": 4,
 "nbformat_minor": 2
}
