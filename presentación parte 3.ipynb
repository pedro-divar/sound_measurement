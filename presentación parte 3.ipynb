{
 "cells": [
  {
   "cell_type": "markdown",
   "metadata": {},
   "source": [
    "# Obtención de respuesta al impulso\n",
    "\n",
    "El método estándar para obtener respuestas al impulso(RI) de recintos es el de la deconvolución de un barrido frecuencial (sine-sweep), para realizar esta obtención de la RI se utiliza el lenguaje python y se crea un módulo llamado $generate\\_signals.py$ para obtener esta respuesta."
   ]
  }
 ],
 "metadata": {
  "kernelspec": {
   "display_name": "Python 3",
   "language": "python",
   "name": "python3"
  },
  "language_info": {
   "codemirror_mode": {
    "name": "ipython",
    "version": 3
   },
   "file_extension": ".py",
   "mimetype": "text/x-python",
   "name": "python",
   "nbconvert_exporter": "python",
   "pygments_lexer": "ipython3",
   "version": "3.7.3"
  }
 },
 "nbformat": 4,
 "nbformat_minor": 2
}
