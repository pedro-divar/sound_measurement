{
 "cells": [
  {
   "cell_type": "markdown",
   "metadata": {},
   "source": [
    "# Obtención de respuesta al impulso\n",
    "\n",
    "El método estándar para obtener respuestas al impulso(RI) de recintos es el de la deconvolución de un barrido frecuencial (sine-sweep), para realizar esta obtención de la RI se utiliza el lenguaje python y se crea un módulo llamado $generate\\_signals.py$ para obtener esta respuesta. A continuación se explica cómo se obtiene esta RI:\n",
    "\n",
    "\n",
    "Suponiendo que un recinto es excitado por una señal $x(t)$ que corresponde a un sinesweep.\n",
    "La RI puede ser obtenida si realizamos la deconvolución de la señal de salida.\n",
    "\n",
    "$y(t) = x(t) * h(t)$\n",
    "\n",
    "donde $y(t)$ es la señal adquirida y $h(t)$ es la respuesta al impulso del recinto. A partir de la propiedad de   convolución de la Transformada de Fourier:\n"
   ]
  }
 ],
 "metadata": {
  "kernelspec": {
   "display_name": "Python 3",
   "language": "python",
   "name": "python3"
  },
  "language_info": {
   "codemirror_mode": {
    "name": "ipython",
    "version": 3
   },
   "file_extension": ".py",
   "mimetype": "text/x-python",
   "name": "python",
   "nbconvert_exporter": "python",
   "pygments_lexer": "ipython3",
   "version": "3.7.3"
  }
 },
 "nbformat": 4,
 "nbformat_minor": 2
}
